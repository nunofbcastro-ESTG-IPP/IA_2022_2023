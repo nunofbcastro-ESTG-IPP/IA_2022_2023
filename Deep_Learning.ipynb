{
 "cells": [
  {
   "cell_type": "code",
   "execution_count": null,
   "metadata": {},
   "outputs": [],
   "source": [
    "from MachineLearning import *\n",
    "from Files import *\n",
    "from Solution import Solution, ItemDeepLearning"
   ]
  },
  {
   "cell_type": "code",
   "execution_count": null,
   "metadata": {},
   "outputs": [],
   "source": [
    "train_path=Path(file = 'train.csv', folder = 'datasets')\n",
    "test_path=Path(file = 'test.csv', folder = 'datasets')\n",
    "sample_path=Path(file = 'sample.csv', folder = 'datasets')\n",
    "save_path=Path(file = 'submit.csv', folder = 'datasets')"
   ]
  },
  {
   "cell_type": "code",
   "execution_count": null,
   "metadata": {},
   "outputs": [],
   "source": [
    "solution = Solution(\n",
    "    ItemDeepLearning(\n",
    "        hidden=[95, 95, 70], \n",
    "        epochs=39, \n",
    "        mini_batch_size=371, \n",
    "        rate= 0.002, \n",
    "        seed=61824101,\n",
    "        activation=\"rectifier\"\n",
    "    )\n",
    ")"
   ]
  },
  {
   "cell_type": "code",
   "execution_count": null,
   "metadata": {},
   "outputs": [],
   "source": [
    "DownloadDataset()"
   ]
  },
  {
   "cell_type": "code",
   "execution_count": null,
   "metadata": {},
   "outputs": [],
   "source": [
    "machineLearning = MachineLearning(\n",
    "    file_path = train_path, \n",
    "    data_percentage_use = 1,\n",
    "    columnNamesFirst = 2, \n",
    "    columnNamesLast = None, \n",
    "    columnResult = 'label', \n",
    "    train_ratio = 1, \n",
    "    test_ratio = 0, \n",
    "    seed = None\n",
    ")"
   ]
  },
  {
   "cell_type": "code",
   "execution_count": 46,
   "metadata": {},
   "outputs": [
    {
     "name": "stderr",
     "output_type": "stream",
     "text": [
      "c:\\Users\\gafol\\AppData\\Local\\Programs\\Python\\Python311\\Lib\\site-packages\\h2o\\estimators\\estimator_base.py:193: RuntimeWarning: Dropping bad and constant columns: [27x28, 27x27, 4x28, 28x4, 28x3, 28x2, 26x28, 26x27, 27x2, 27x1, 1x1, 25x2, 1x2, 25x1, 1x3, 3x1, 1x4, 3x2, 1x5, 5x1, 1x6, 21x1, 1x7, 7x1, 1x8, 1x9, 3x27, 3x28, 18x1, 25x28, 1x12, 2x25, 2x26, 2x27, 2x28, 1x17, 1x18, 1x19, 27x3, 1x10, 1x11, 28x28, 24x28, 28x1, 26x2, 26x1, 2x1, 2x2, 24x1, 28x27, 2x3, 4x1, 28x26, 2x4, 4x2, 28x25, 6x1, 1x23, 1x24, 1x25, 1x26, 1x27, 1x28, 1x20, 1x21, 1x22]\n",
      "  warnings.warn(mesg[\"message\"], RuntimeWarning)\n"
     ]
    },
    {
     "name": "stdout",
     "output_type": "stream",
     "text": [
      "deeplearning Model Build progress: |█████████████████████████████████████████████| (done) 100%\n"
     ]
    }
   ],
   "source": [
    "model = machineLearning.get_model_deep_learning(solution = solution)"
   ]
  },
  {
   "cell_type": "code",
   "execution_count": 50,
   "metadata": {},
   "outputs": [
    {
     "name": "stdout",
     "output_type": "stream",
     "text": [
      "Parse progress: |████████████████████████████████████████████████████████████████| (done) 100%\n",
      "deeplearning prediction progress: |██████████████████████████████████████████████| (done) 100%\n"
     ]
    }
   ],
   "source": [
    "machineLearning.test_model(model, test_path, sample_path, save_path)"
   ]
  }
 ],
 "metadata": {
  "kernelspec": {
   "display_name": "Python 3",
   "language": "python",
   "name": "python3"
  },
  "language_info": {
   "codemirror_mode": {
    "name": "ipython",
    "version": 3
   },
   "file_extension": ".py",
   "mimetype": "text/x-python",
   "name": "python",
   "nbconvert_exporter": "python",
   "pygments_lexer": "ipython3",
   "version": "3.11.2"
  },
  "orig_nbformat": 4
 },
 "nbformat": 4,
 "nbformat_minor": 2
}
