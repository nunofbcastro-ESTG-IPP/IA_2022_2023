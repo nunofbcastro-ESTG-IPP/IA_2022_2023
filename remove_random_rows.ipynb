{
 "cells": [
  {
   "cell_type": "code",
   "execution_count": 29,
   "metadata": {},
   "outputs": [],
   "source": [
    "import pandas as pd\n",
    "import random\n",
    "from Files import *"
   ]
  },
  {
   "cell_type": "code",
   "execution_count": 30,
   "metadata": {},
   "outputs": [],
   "source": [
    "def remove_random_rows(csv_file, desired_size):\n",
    "    df = pd.read_csv(csv_file)  # Lê o arquivo CSV em um DataFrame\n",
    "    current_size = len(df)\n",
    "\n",
    "    if desired_size >= current_size:\n",
    "        print(\"O tamanho desejado é igual ou maior que o tamanho atual do arquivo.\")\n",
    "        return\n",
    "\n",
    "    rows_to_remove = current_size - desired_size\n",
    "    indices = random.sample(range(current_size), rows_to_remove)  # Seleciona índices aleatórios para remover\n",
    "\n",
    "    df.drop(indices, inplace=True)  # Remove as linhas com os índices selecionados\n",
    "    df.to_csv(csv_file, index=False)  # Salva o DataFrame modificado de volta no arquivo CSV\n",
    "\n",
    "    print(f\"{rows_to_remove} linhas removidas. Tamanho atual: {desired_size}.\")\n"
   ]
  },
  {
   "cell_type": "code",
   "execution_count": 31,
   "metadata": {},
   "outputs": [],
   "source": [
    "# Exemplo de uso\n",
    "csv_file = Path(file = 'train.csv', folder = 'datasets')  # Substitua pelo caminho correto para o seu arquivo CSV\n",
    "desired_size = 55000  # Substitua pelo tamanho desejado"
   ]
  },
  {
   "cell_type": "code",
   "execution_count": 32,
   "metadata": {},
   "outputs": [
    {
     "name": "stdout",
     "output_type": "stream",
     "text": [
      "O tamanho desejado é igual ou maior que o tamanho atual do arquivo.\n"
     ]
    }
   ],
   "source": [
    "remove_random_rows(csv_file, desired_size)"
   ]
  }
 ],
 "metadata": {
  "kernelspec": {
   "display_name": "Python 3",
   "language": "python",
   "name": "python3"
  },
  "language_info": {
   "codemirror_mode": {
    "name": "ipython",
    "version": 3
   },
   "file_extension": ".py",
   "mimetype": "text/x-python",
   "name": "python",
   "nbconvert_exporter": "python",
   "pygments_lexer": "ipython3",
   "version": "3.11.3"
  },
  "orig_nbformat": 4
 },
 "nbformat": 4,
 "nbformat_minor": 2
}
